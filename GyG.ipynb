{
 "cells": [
  {
   "cell_type": "markdown",
   "metadata": {},
   "source": [
    "### Get Your Guide - Search Engine Marketing\n",
    "\n",
    "This document contains both the python source code as well as the reasoning behind the metrics chosen and how marketing can be improved.\n",
    "\n",
    "### 1. Load Data\n",
    "\n",
    "Let us first start by loading the sample data using pandas"
   ]
  },
  {
   "cell_type": "code",
   "execution_count": 2,
   "metadata": {
    "collapsed": true
   },
   "outputs": [],
   "source": [
    "import pandas as pd\n",
    "df = pd.read_csv('take_home_test_data.csv')"
   ]
  },
  {
   "cell_type": "code",
   "execution_count": 3,
   "metadata": {
    "scrolled": true
   },
   "outputs": [
    {
     "data": {
      "text/html": [
       "<div>\n",
       "<table border=\"1\" class=\"dataframe\">\n",
       "  <thead>\n",
       "    <tr style=\"text-align: right;\">\n",
       "      <th></th>\n",
       "      <th>Impressions</th>\n",
       "      <th>CTR</th>\n",
       "      <th>Cost</th>\n",
       "      <th>Position</th>\n",
       "      <th>Revenue</th>\n",
       "    </tr>\n",
       "  </thead>\n",
       "  <tbody>\n",
       "    <tr>\n",
       "      <th>count</th>\n",
       "      <td>248423.000000</td>\n",
       "      <td>248423.000000</td>\n",
       "      <td>248423.000000</td>\n",
       "      <td>248423.000000</td>\n",
       "      <td>248423.000000</td>\n",
       "    </tr>\n",
       "    <tr>\n",
       "      <th>mean</th>\n",
       "      <td>120.444101</td>\n",
       "      <td>0.074117</td>\n",
       "      <td>1.849001</td>\n",
       "      <td>2.749399</td>\n",
       "      <td>276.708866</td>\n",
       "    </tr>\n",
       "    <tr>\n",
       "      <th>std</th>\n",
       "      <td>644.427170</td>\n",
       "      <td>0.068256</td>\n",
       "      <td>19.689829</td>\n",
       "      <td>1.477798</td>\n",
       "      <td>1532.379864</td>\n",
       "    </tr>\n",
       "    <tr>\n",
       "      <th>min</th>\n",
       "      <td>5.000000</td>\n",
       "      <td>0.000100</td>\n",
       "      <td>0.000000</td>\n",
       "      <td>1.000000</td>\n",
       "      <td>0.370000</td>\n",
       "    </tr>\n",
       "    <tr>\n",
       "      <th>25%</th>\n",
       "      <td>14.000000</td>\n",
       "      <td>0.027400</td>\n",
       "      <td>0.100000</td>\n",
       "      <td>2.000000</td>\n",
       "      <td>30.890000</td>\n",
       "    </tr>\n",
       "    <tr>\n",
       "      <th>50%</th>\n",
       "      <td>28.000000</td>\n",
       "      <td>0.054200</td>\n",
       "      <td>0.300000</td>\n",
       "      <td>3.000000</td>\n",
       "      <td>74.800000</td>\n",
       "    </tr>\n",
       "    <tr>\n",
       "      <th>75%</th>\n",
       "      <td>69.000000</td>\n",
       "      <td>0.098200</td>\n",
       "      <td>0.910000</td>\n",
       "      <td>4.000000</td>\n",
       "      <td>192.545000</td>\n",
       "    </tr>\n",
       "    <tr>\n",
       "      <th>max</th>\n",
       "      <td>82024.000000</td>\n",
       "      <td>0.857100</td>\n",
       "      <td>6624.620000</td>\n",
       "      <td>6.000000</td>\n",
       "      <td>224856.750000</td>\n",
       "    </tr>\n",
       "  </tbody>\n",
       "</table>\n",
       "</div>"
      ],
      "text/plain": [
       "         Impressions            CTR           Cost       Position  \\\n",
       "count  248423.000000  248423.000000  248423.000000  248423.000000   \n",
       "mean      120.444101       0.074117       1.849001       2.749399   \n",
       "std       644.427170       0.068256      19.689829       1.477798   \n",
       "min         5.000000       0.000100       0.000000       1.000000   \n",
       "25%        14.000000       0.027400       0.100000       2.000000   \n",
       "50%        28.000000       0.054200       0.300000       3.000000   \n",
       "75%        69.000000       0.098200       0.910000       4.000000   \n",
       "max     82024.000000       0.857100    6624.620000       6.000000   \n",
       "\n",
       "             Revenue  \n",
       "count  248423.000000  \n",
       "mean      276.708866  \n",
       "std      1532.379864  \n",
       "min         0.370000  \n",
       "25%        30.890000  \n",
       "50%        74.800000  \n",
       "75%       192.545000  \n",
       "max    224856.750000  "
      ]
     },
     "execution_count": 3,
     "metadata": {},
     "output_type": "execute_result"
    }
   ],
   "source": [
    "#Using the inbuilt aggregating functions\n",
    "df.describe()"
   ]
  },
  {
   "cell_type": "code",
   "execution_count": 4,
   "metadata": {},
   "outputs": [
    {
     "data": {
      "text/html": [
       "<div>\n",
       "<table border=\"1\" class=\"dataframe\">\n",
       "  <thead>\n",
       "    <tr style=\"text-align: right;\">\n",
       "      <th></th>\n",
       "      <th>Search keyword</th>\n",
       "      <th>Impressions</th>\n",
       "      <th>CTR</th>\n",
       "      <th>Cost</th>\n",
       "      <th>Position</th>\n",
       "      <th>Company</th>\n",
       "      <th>Revenue</th>\n",
       "    </tr>\n",
       "  </thead>\n",
       "  <tbody>\n",
       "    <tr>\n",
       "      <th>0</th>\n",
       "      <td>alanya tours</td>\n",
       "      <td>21</td>\n",
       "      <td>0.0476</td>\n",
       "      <td>0.12</td>\n",
       "      <td>1</td>\n",
       "      <td>Company A</td>\n",
       "      <td>76.74</td>\n",
       "    </tr>\n",
       "  </tbody>\n",
       "</table>\n",
       "</div>"
      ],
      "text/plain": [
       "  Search keyword  Impressions     CTR  Cost  Position    Company  Revenue\n",
       "0   alanya tours           21  0.0476  0.12         1  Company A    76.74"
      ]
     },
     "execution_count": 4,
     "metadata": {},
     "output_type": "execute_result"
    }
   ],
   "source": [
    "#Check the first row of data\n",
    "df.head(1)"
   ]
  },
  {
   "cell_type": "code",
   "execution_count": 5,
   "metadata": {},
   "outputs": [
    {
     "data": {
      "text/html": [
       "<div>\n",
       "<table border=\"1\" class=\"dataframe\">\n",
       "  <thead>\n",
       "    <tr style=\"text-align: right;\">\n",
       "      <th></th>\n",
       "      <th>Search keyword</th>\n",
       "      <th>Impressions</th>\n",
       "      <th>CTR</th>\n",
       "      <th>Cost</th>\n",
       "      <th>Position</th>\n",
       "      <th>Company</th>\n",
       "      <th>Revenue</th>\n",
       "      <th>Clicks</th>\n",
       "    </tr>\n",
       "  </thead>\n",
       "  <tbody>\n",
       "    <tr>\n",
       "      <th>0</th>\n",
       "      <td>alanya tours</td>\n",
       "      <td>21</td>\n",
       "      <td>0.0476</td>\n",
       "      <td>0.12</td>\n",
       "      <td>1</td>\n",
       "      <td>Company A</td>\n",
       "      <td>76.74</td>\n",
       "      <td>0.9996</td>\n",
       "    </tr>\n",
       "  </tbody>\n",
       "</table>\n",
       "</div>"
      ],
      "text/plain": [
       "  Search keyword  Impressions     CTR  Cost  Position    Company  Revenue  \\\n",
       "0   alanya tours           21  0.0476  0.12         1  Company A    76.74   \n",
       "\n",
       "   Clicks  \n",
       "0  0.9996  "
      ]
     },
     "execution_count": 5,
     "metadata": {},
     "output_type": "execute_result"
    }
   ],
   "source": [
    "# Add total number of clicks to all rows and verify the same row we viewed before\n",
    "df['Clicks'] = df['CTR'] * df['Impressions']\n",
    "df.head(1)"
   ]
  },
  {
   "cell_type": "markdown",
   "metadata": {},
   "source": [
    "### 2. Establish a Performance Metric\n",
    "Let's use <b>ROI (Return on Investment)</b> as the Performance Metric since it is the most efficient measurement of how well a specific advertisement or campaign or even a goal has performed. It is nothing but the returns you get from the ads you spend money on. ROI is defined with the following formula. <b>(Revenue - Cost) / Cost </b>"
   ]
  },
  {
   "cell_type": "markdown",
   "metadata": {},
   "source": [
    "### 3. Understand how Companies fare vs each other\n",
    "Calculate the various aggregate functions including ROI of all the companies and see how they are peforming against each other. Later see how they can be improved."
   ]
  },
  {
   "cell_type": "code",
   "execution_count": 6,
   "metadata": {},
   "outputs": [
    {
     "data": {
      "text/html": [
       "<div>\n",
       "<table border=\"1\" class=\"dataframe\">\n",
       "  <thead>\n",
       "    <tr style=\"text-align: right;\">\n",
       "      <th></th>\n",
       "      <th>Company</th>\n",
       "      <th>Impressions</th>\n",
       "      <th>Search keyword</th>\n",
       "      <th>Revenue</th>\n",
       "      <th>Clicks</th>\n",
       "      <th>Cost</th>\n",
       "      <th>CTR</th>\n",
       "      <th>ROI</th>\n",
       "    </tr>\n",
       "  </thead>\n",
       "  <tbody>\n",
       "    <tr>\n",
       "      <th>0</th>\n",
       "      <td>Company A</td>\n",
       "      <td>4371783</td>\n",
       "      <td>23070</td>\n",
       "      <td>10032952.39</td>\n",
       "      <td>190972.5362</td>\n",
       "      <td>66600.98</td>\n",
       "      <td>0.043683</td>\n",
       "      <td>149.642714</td>\n",
       "    </tr>\n",
       "    <tr>\n",
       "      <th>1</th>\n",
       "      <td>Company B</td>\n",
       "      <td>4552075</td>\n",
       "      <td>23041</td>\n",
       "      <td>10034830.17</td>\n",
       "      <td>196594.5690</td>\n",
       "      <td>65723.44</td>\n",
       "      <td>0.043188</td>\n",
       "      <td>151.682668</td>\n",
       "    </tr>\n",
       "    <tr>\n",
       "      <th>2</th>\n",
       "      <td>Company C</td>\n",
       "      <td>4576889</td>\n",
       "      <td>23065</td>\n",
       "      <td>10367789.86</td>\n",
       "      <td>196376.6422</td>\n",
       "      <td>67905.21</td>\n",
       "      <td>0.042906</td>\n",
       "      <td>151.680330</td>\n",
       "    </tr>\n",
       "    <tr>\n",
       "      <th>3</th>\n",
       "      <td>Company D</td>\n",
       "      <td>4411274</td>\n",
       "      <td>23054</td>\n",
       "      <td>9815292.58</td>\n",
       "      <td>188313.9405</td>\n",
       "      <td>67284.52</td>\n",
       "      <td>0.042689</td>\n",
       "      <td>144.877426</td>\n",
       "    </tr>\n",
       "    <tr>\n",
       "      <th>4</th>\n",
       "      <td>Company E</td>\n",
       "      <td>4404764</td>\n",
       "      <td>23193</td>\n",
       "      <td>9825982.25</td>\n",
       "      <td>189180.9100</td>\n",
       "      <td>65737.95</td>\n",
       "      <td>0.042949</td>\n",
       "      <td>148.471991</td>\n",
       "    </tr>\n",
       "    <tr>\n",
       "      <th>5</th>\n",
       "      <td>GetYourGuide</td>\n",
       "      <td>7604300</td>\n",
       "      <td>30394</td>\n",
       "      <td>18663999.35</td>\n",
       "      <td>350676.6463</td>\n",
       "      <td>126082.37</td>\n",
       "      <td>0.046116</td>\n",
       "      <td>147.030207</td>\n",
       "    </tr>\n",
       "  </tbody>\n",
       "</table>\n",
       "</div>"
      ],
      "text/plain": [
       "        Company  Impressions  Search keyword      Revenue       Clicks  \\\n",
       "0     Company A      4371783           23070  10032952.39  190972.5362   \n",
       "1     Company B      4552075           23041  10034830.17  196594.5690   \n",
       "2     Company C      4576889           23065  10367789.86  196376.6422   \n",
       "3     Company D      4411274           23054   9815292.58  188313.9405   \n",
       "4     Company E      4404764           23193   9825982.25  189180.9100   \n",
       "5  GetYourGuide      7604300           30394  18663999.35  350676.6463   \n",
       "\n",
       "        Cost       CTR         ROI  \n",
       "0   66600.98  0.043683  149.642714  \n",
       "1   65723.44  0.043188  151.682668  \n",
       "2   67905.21  0.042906  151.680330  \n",
       "3   67284.52  0.042689  144.877426  \n",
       "4   65737.95  0.042949  148.471991  \n",
       "5  126082.37  0.046116  147.030207  "
      ]
     },
     "execution_count": 6,
     "metadata": {},
     "output_type": "execute_result"
    }
   ],
   "source": [
    "# Aggregate Metrics by Company\n",
    "df_companies = df.groupby(['Company']).agg({\n",
    "    'Search keyword':'nunique',\n",
    "    'Impressions':'sum',\n",
    "    'Clicks':'sum',\n",
    "    'Cost':'sum',\n",
    "    'Revenue':'sum',\n",
    "}).reset_index()\n",
    "\n",
    "# Calculate CTR\n",
    "df_companies['CTR'] = df_companies['Clicks'] / df_companies['Impressions']\n",
    "# Calculate ROI\n",
    "df_companies['ROI'] = (df_companies['Revenue'] - df_companies['Cost']) / df_companies['Cost']\n",
    "\n",
    "df_companies"
   ]
  },
  {
   "cell_type": "markdown",
   "metadata": {},
   "source": [
    "<b>We can see that GetYourGuide</b>\n",
    "* has much more Search Keywords than the rest, and as a consequence, more Clicks/Revenue/Cost\n",
    "* has the best Click Through Rate\n",
    "* doesn't perform that well on ROI (relatively speaking)"
   ]
  },
  {
   "cell_type": "markdown",
   "metadata": {},
   "source": [
    "### Improving Performance\n",
    "As a first step to improve ROI, we need to identify those Search Keywords that dont perform that well, and remove them."
   ]
  },
  {
   "cell_type": "markdown",
   "metadata": {},
   "source": [
    "### 4. Analyzing GetYourGuide's Keyword Performance"
   ]
  },
  {
   "cell_type": "code",
   "execution_count": 7,
   "metadata": {},
   "outputs": [
    {
     "data": {
      "text/html": [
       "<div>\n",
       "<table border=\"1\" class=\"dataframe\">\n",
       "  <thead>\n",
       "    <tr style=\"text-align: right;\">\n",
       "      <th></th>\n",
       "      <th>Company</th>\n",
       "      <th>Search keyword</th>\n",
       "      <th>Impressions</th>\n",
       "      <th>Cost</th>\n",
       "      <th>Clicks</th>\n",
       "      <th>Revenue</th>\n",
       "      <th>CTR</th>\n",
       "      <th>ROI</th>\n",
       "    </tr>\n",
       "  </thead>\n",
       "  <tbody>\n",
       "    <tr>\n",
       "      <th>0</th>\n",
       "      <td>GetYourGuide</td>\n",
       "      <td>1 day cruise from athens</td>\n",
       "      <td>14</td>\n",
       "      <td>2.49</td>\n",
       "      <td>3.3222</td>\n",
       "      <td>79.54</td>\n",
       "      <td>0.2373</td>\n",
       "      <td>30.943775</td>\n",
       "    </tr>\n",
       "  </tbody>\n",
       "</table>\n",
       "</div>"
      ],
      "text/plain": [
       "        Company            Search keyword  Impressions  Cost  Clicks  Revenue  \\\n",
       "0  GetYourGuide  1 day cruise from athens           14  2.49  3.3222    79.54   \n",
       "\n",
       "      CTR        ROI  \n",
       "0  0.2373  30.943775  "
      ]
     },
     "execution_count": 7,
     "metadata": {},
     "output_type": "execute_result"
    }
   ],
   "source": [
    "# Filter dataset for GetYourGuide\n",
    "df_gyg = df[df['Company']=='GetYourGuide']\n",
    "\n",
    "# Aggregate data by search term \n",
    "df_gyg_kw = df_gyg.groupby(['Company','Search keyword']).agg({\n",
    "    'Impressions':'sum',\n",
    "    'Clicks':'sum',\n",
    "    'Cost':'sum',\n",
    "    'Revenue':'sum',\n",
    "}).reset_index()\n",
    "\n",
    "# Calculate CTR\n",
    "df_gyg_kw['CTR'] = df_gyg_kw['Clicks'] / df_gyg_kw['Impressions']\n",
    "# Calculate ROI\n",
    "df_gyg_kw['ROI'] = (df_gyg_kw['Revenue'] - df_gyg_kw['Cost']) / df_gyg_kw['Cost']\n",
    "\n",
    "df_gyg_kw.head(1)"
   ]
  },
  {
   "cell_type": "markdown",
   "metadata": {},
   "source": [
    "### 5. Lets visualize how keyword performance varies by Clicks and ROI\n",
    "\n",
    "We can have a better understanding of the performance from a visual representation of the data. For this we use matplotlib to plot a graph between Clicks and ROI. We can then find the ads/search words that are not performing well."
   ]
  },
  {
   "cell_type": "code",
   "execution_count": 8,
   "metadata": {},
   "outputs": [
    {
     "data": {
      "image/png": "[encoded data removed]",
      "text/plain": [
       "<matplotlib.figure.Figure at 0x7fb4ec5703d0>"
      ]
     },
     "metadata": {},
     "output_type": "display_data"
    }
   ],
   "source": [
    "from matplotlib import pyplot as plt \n",
    "import seaborn as sns\n",
    "\n",
    "df_gyg_kw.plot(kind='scatter',x='ROI',y='Clicks')\n",
    "plt.title('Keywords by ROI vs Clicks')\n",
    "plt.show()"
   ]
  },
  {
   "cell_type": "markdown",
   "metadata": {},
   "source": [
    "<b>Lets look at the same plot but excluding outliers</b>"
   ]
  },
  {
   "cell_type": "code",
   "execution_count": 9,
   "metadata": {},
   "outputs": [
    {
     "data": {
      "image/png": "[encoded data removed]",
      "text/plain": [
       "<matplotlib.figure.Figure at 0x7fb5039b3190>"
      ]
     },
     "metadata": {},
     "output_type": "display_data"
    }
   ],
   "source": [
    "percentile = 0.95\n",
    "q = df_gyg_kw[\"ROI\"].quantile(percentile)\n",
    "df_gyg_kw_excl = df_gyg_kw[df_gyg_kw[\"ROI\"] < q]\n",
    "df_gyg_kw_excl.plot(kind='scatter',x='ROI',y='Clicks')\n",
    "plt.title('Keywords by ROI vs Clicks')\n",
    "plt.show()"
   ]
  },
  {
   "cell_type": "markdown",
   "metadata": {},
   "source": [
    "### 6. Time to Optimize!\n",
    "Ideally you want to be in the Top Right quadrant of the plot, but reality is several of the Keywords are clustered around the Bottom Left Quadrant.\n",
    "\n",
    "In order to identify and exclude the worst performing Keywords, let's set an <b>ROI Target<b> and stop all the Ads for the underperforming Keywords</b>"
   ]
  },
  {
   "cell_type": "code",
   "execution_count": 10,
   "metadata": {},
   "outputs": [],
   "source": [
    "ROI_TARGET = 100\n",
    "# Filter the datset, exclude underperformers\n",
    "df_gyg_filtered = df_gyg_kw[df_gyg_kw['ROI']>=ROI_TARGET]"
   ]
  },
  {
   "cell_type": "code",
   "execution_count": 11,
   "metadata": {},
   "outputs": [
    {
     "data": {
      "text/html": [
       "<div>\n",
       "<table border=\"1\" class=\"dataframe\">\n",
       "  <thead>\n",
       "    <tr style=\"text-align: right;\">\n",
       "      <th></th>\n",
       "      <th>Company</th>\n",
       "      <th>Impressions</th>\n",
       "      <th>Search keyword</th>\n",
       "      <th>Revenue</th>\n",
       "      <th>Clicks</th>\n",
       "      <th>Cost</th>\n",
       "      <th>CTR</th>\n",
       "      <th>ROI</th>\n",
       "    </tr>\n",
       "  </thead>\n",
       "  <tbody>\n",
       "    <tr>\n",
       "      <th>0</th>\n",
       "      <td>GetYourGuide</td>\n",
       "      <td>6124768</td>\n",
       "      <td>24862</td>\n",
       "      <td>15515252.29</td>\n",
       "      <td>277092.9754</td>\n",
       "      <td>54907.32</td>\n",
       "      <td>0.045241</td>\n",
       "      <td>281.571655</td>\n",
       "    </tr>\n",
       "  </tbody>\n",
       "</table>\n",
       "</div>"
      ],
      "text/plain": [
       "        Company  Impressions  Search keyword      Revenue       Clicks  \\\n",
       "0  GetYourGuide      6124768           24862  15515252.29  277092.9754   \n",
       "\n",
       "       Cost       CTR         ROI  \n",
       "0  54907.32  0.045241  281.571655  "
      ]
     },
     "execution_count": 11,
     "metadata": {},
     "output_type": "execute_result"
    }
   ],
   "source": [
    "# Aggregate the data\n",
    "df_gyg_agg = df_gyg_filtered.groupby(['Company']).agg({\n",
    "    'Search keyword':'nunique',\n",
    "    'Impressions':'sum',\n",
    "    'Clicks':'sum',\n",
    "    'Cost':'sum',\n",
    "    'Revenue':'sum',\n",
    "}).reset_index()\n",
    "\n",
    "# Calculate CTR\n",
    "df_gyg_agg['CTR'] = df_gyg_agg['Clicks'] / df_gyg_agg['Impressions']\n",
    "# Calculate ROI\n",
    "df_gyg_agg['ROI'] = (df_gyg_agg['Revenue'] - df_gyg_agg['Cost']) / df_gyg_agg['Cost']\n",
    "\n",
    "df_gyg_agg"
   ]
  },
  {
   "cell_type": "markdown",
   "metadata": {},
   "source": [
    "<b>Let's compare the actual performance with the performance we would have, if we cut out all the underperforming Keywords</b>"
   ]
  },
  {
   "cell_type": "code",
   "execution_count": 12,
   "metadata": {},
   "outputs": [],
   "source": [
    "# Add the original performance data to the filtered performance data\n",
    "df_gyg_original = df_companies[df_companies['Company']=='GetYourGuide']\n",
    "df_gyg_merged = df_gyg_original.merge(df_gyg_agg,on='Company')"
   ]
  },
  {
   "cell_type": "code",
   "execution_count": 13,
   "metadata": {},
   "outputs": [],
   "source": [
    "# Calculate the percentage change in the key metrics\n",
    "for col in ['Search keyword','Impressions','Clicks','Cost','Revenue','CTR','ROI']:\n",
    "    df_gyg_merged[col + '_delta'] = (df_gyg_merged[col+'_y'] - df_gyg_merged[col+'_x']) / df_gyg_merged[col+'_x']\n",
    "\n",
    "df_gyg_delta = df_gyg_merged[['Company','Search keyword_delta','Impressions_delta','Clicks_delta','Cost_delta','Revenue_delta','CTR_delta','ROI_delta']]"
   ]
  },
  {
   "cell_type": "code",
   "execution_count": 14,
   "metadata": {},
   "outputs": [
    {
     "data": {
      "text/html": [
       "<div>\n",
       "<table border=\"1\" class=\"dataframe\">\n",
       "  <thead>\n",
       "    <tr style=\"text-align: right;\">\n",
       "      <th></th>\n",
       "      <th>Company</th>\n",
       "      <th>Search keyword_delta</th>\n",
       "      <th>Impressions_delta</th>\n",
       "      <th>Clicks_delta</th>\n",
       "      <th>Cost_delta</th>\n",
       "      <th>Revenue_delta</th>\n",
       "      <th>CTR_delta</th>\n",
       "      <th>ROI_delta</th>\n",
       "    </tr>\n",
       "  </thead>\n",
       "  <tbody>\n",
       "    <tr>\n",
       "      <th>0</th>\n",
       "      <td>GetYourGuide</td>\n",
       "      <td>-0.18201</td>\n",
       "      <td>-0.194565</td>\n",
       "      <td>-0.209833</td>\n",
       "      <td>-0.564512</td>\n",
       "      <td>-0.168707</td>\n",
       "      <td>-0.018956</td>\n",
       "      <td>0.91506</td>\n",
       "    </tr>\n",
       "  </tbody>\n",
       "</table>\n",
       "</div>"
      ],
      "text/plain": [
       "        Company  Search keyword_delta  Impressions_delta  Clicks_delta  \\\n",
       "0  GetYourGuide              -0.18201          -0.194565     -0.209833   \n",
       "\n",
       "   Cost_delta  Revenue_delta  CTR_delta  ROI_delta  \n",
       "0   -0.564512      -0.168707  -0.018956    0.91506  "
      ]
     },
     "execution_count": 14,
     "metadata": {},
     "output_type": "execute_result"
    }
   ],
   "source": [
    "df_gyg_delta"
   ]
  },
  {
   "cell_type": "markdown",
   "metadata": {},
   "source": [
    "### Optimization Result\n",
    "\n",
    "Based on our ROI Target, and pausing the underperforming Ads/Keywords:\n",
    "* We dropped 18% of Keywords, and our total Impressions went down 19%\n",
    "* While Revenue dropped 16%, the total Cost has dropped an <b>amazing 56%</b> , causing ROI to go up by <b>91%</b>"
   ]
  },
  {
   "cell_type": "markdown",
   "metadata": {
    "collapsed": true
   },
   "source": [
    "### Improved Solution\n",
    "\n",
    "The current solution looks really attractive with the costs having gone down so much and the ROI having improved so much, but there are some areas where it can be made efficient with more time spent on it. \n",
    "\n",
    "In the current solution, the search words with low ROI are removed completely irrespective of their performances compared to other companies. If the ROI of these search terms are compared to the other companies and only the ones that are performing badly are removed, it would lead to an inreased revenue. "
   ]
  }
 ],
 "metadata": {
  "kernelspec": {
   "display_name": "Python 3",
   "language": "python",
   "name": "python3"
  },
  "language_info": {
   "codemirror_mode": {
    "name": "ipython",
    "version": 3
   },
   "file_extension": ".py",
   "mimetype": "text/x-python",
   "name": "python",
   "nbconvert_exporter": "python",
   "pygments_lexer": "ipython3",
   "version": "3.6.3"
  }
 },
 "nbformat": 4,
 "nbformat_minor": 2
}
